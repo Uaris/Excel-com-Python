{
 "cells": [
  {
   "cell_type": "code",
   "execution_count": 12,
   "id": "5681d54a",
   "metadata": {},
   "outputs": [],
   "source": []
  },
  {
   "cell_type": "code",
   "execution_count": 31,
   "id": "22cd163b",
   "metadata": {
    "scrolled": true
   },
   "outputs": [],
   "source": [
    "# Criando um segundo arquivo no Excel com o Python.\n",
    "# Obs: \"Import xlsxwriter as xls\" é uma convenção pessoal que usei para simplificar as coisas.\n",
    "\n",
    "import xlsxwriter as xls\n",
    "import os\n",
    "import pandas as pd\n",
    "\n",
    "#Dicionário criado para preencher os dados no dataframe\n",
    "dataframe = pd.DataFrame({'Nome': ['Rob', 'Ver', 'Noe', 'Sam'],\n",
    "                          'Idade': [30,32,34,36],\n",
    "                          'Salario': [3000,3200,3400,3600]\n",
    "                         })\n",
    "\n",
    "#Cria e salva a planilha usando o pd.ExcelWriter\n",
    "arquivo = pd.ExcelWriter('C:\\\\Users\\\\User\\\\Documents\\\\MAP\\\\Udemy Power BI\\\\Planilha no Pandas.xlsx', engine='xlsxwriter')\n",
    "\n",
    "#converte o dataframe pra Excel\n",
    "dataframe.to_excel(arquivo, sheet_name='Dados')\n",
    "\n",
    "#Pega a pasta de trabalho xlsxwriter e os objetos da planilha\n",
    "workbook = arquivo.book\n",
    "worksheet = arquivo.sheets['Dados']\n",
    "\n",
    "#variável criada para formatar os valores em moeda\n",
    "moeda = workbook.add_format({'num_format':'#,##0.00'})\n",
    "worksheet.set_column('D:D', None, moeda)\n",
    "\n",
    "#Fecha a planilha no Python\n",
    "arquivo.close()\n",
    "\n",
    "#Abre a planilha no Excel\n",
    "os.startfile(arquivo)"
   ]
  },
  {
   "cell_type": "code",
   "execution_count": null,
   "id": "88078720",
   "metadata": {},
   "outputs": [],
   "source": []
  }
 ],
 "metadata": {
  "kernelspec": {
   "display_name": "Python 3",
   "language": "python",
   "name": "python3"
  },
  "language_info": {
   "codemirror_mode": {
    "name": "ipython",
    "version": 3
   },
   "file_extension": ".py",
   "mimetype": "text/x-python",
   "name": "python",
   "nbconvert_exporter": "python",
   "pygments_lexer": "ipython3",
   "version": "3.8.8"
  }
 },
 "nbformat": 4,
 "nbformat_minor": 5
}
